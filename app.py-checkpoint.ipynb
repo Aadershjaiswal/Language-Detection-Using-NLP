{
 "cells": [
  {
   "cell_type": "code",
   "execution_count": null,
   "id": "6cc5218f-a742-4caf-a942-12f8404fafdc",
   "metadata": {},
   "outputs": [],
   "source": [
    "import pickle\n",
    "import string\n",
    "import streamlit as st\n",
    "global Lrdetect_Model\n",
    "LrdetectFile = open('model.pckl','rb')\n",
    "Lrdetect_Model = pickle.load(LrdetectFile)\n",
    "LrdetectFile.close()\n",
    "st.tittle(\"Language Detection Tool\")\n",
    "input_test = st.text_input(\"provide your text input here\", 'Hello my name is jay ')\n",
    "button_clicked = st.button(\"Get Language Name\")\n",
    "if button_clicked:\n",
    "    st.text(Lrdetect_Model.predict([input_test]))"
   ]
  }
 ],
 "metadata": {
  "kernelspec": {
   "display_name": "Python 3 (ipykernel)",
   "language": "python",
   "name": "python3"
  },
  "language_info": {
   "codemirror_mode": {
    "name": "ipython",
    "version": 3
   },
   "file_extension": ".py",
   "mimetype": "text/x-python",
   "name": "python",
   "nbconvert_exporter": "python",
   "pygments_lexer": "ipython3",
   "version": "3.10.8"
  }
 },
 "nbformat": 4,
 "nbformat_minor": 5
}
